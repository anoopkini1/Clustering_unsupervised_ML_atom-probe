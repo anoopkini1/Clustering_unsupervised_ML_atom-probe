{
 "cells": [
  {
   "cell_type": "code",
   "execution_count": 1,
   "metadata": {},
   "outputs": [
    {
     "name": "stdout",
     "output_type": "stream",
     "text": [
      "Collecting debacl\n",
      "  Downloading debacl-1.1.tar.gz (22 kB)\n",
      "Collecting prettytable\n",
      "  Downloading prettytable-2.2.1-py3-none-any.whl (23 kB)\n",
      "Requirement already satisfied: networkx in c:\\users\\04965\\anaconda3\\envs\\new_projects\\lib\\site-packages (from debacl) (2.5)\n",
      "Requirement already satisfied: wcwidth in c:\\users\\04965\\anaconda3\\envs\\new_projects\\lib\\site-packages (from prettytable->debacl) (0.2.5)\n",
      "Requirement already satisfied: decorator>=4.3.0 in c:\\users\\04965\\anaconda3\\envs\\new_projects\\lib\\site-packages (from networkx->debacl) (4.4.2)\n",
      "Building wheels for collected packages: debacl\n",
      "  Building wheel for debacl (setup.py): started\n",
      "  Building wheel for debacl (setup.py): finished with status 'done'\n",
      "  Created wheel for debacl: filename=debacl-1.1-py3-none-any.whl size=24792 sha256=3a14e045f8e0b5b08595e319eba459a5a7676901cea662e7aabedcc0c2c7a00b\n",
      "  Stored in directory: c:\\users\\04965\\appdata\\local\\pip\\cache\\wheels\\b1\\1d\\7b\\e8464080d5108dfc26561c080bbafbd08e1026484ee6426a77\n",
      "Successfully built debacl\n",
      "Installing collected packages: prettytable, debacl\n",
      "Successfully installed debacl-1.1 prettytable-2.2.1\n"
     ]
    }
   ],
   "source": [
    "# !pip install debacl\n",
    "# !pip install hdbscan"
   ]
  },
  {
   "cell_type": "markdown",
   "metadata": {},
   "source": [
    "## Import of libraries for clustering"
   ]
  },
  {
   "cell_type": "code",
   "execution_count": 1,
   "metadata": {},
   "outputs": [
    {
     "name": "stderr",
     "output_type": "stream",
     "text": [
      "C:\\Users\\04965\\Anaconda3\\envs\\new_projects\\lib\\site-packages\\sklearn\\utils\\deprecation.py:143: FutureWarning: The sklearn.datasets.samples_generator module is  deprecated in version 0.22 and will be removed in version 0.24. The corresponding classes / functions should instead be imported from sklearn.datasets. Anything that cannot be imported from sklearn.datasets is now part of the private API.\n",
      "  warnings.warn(message, FutureWarning)\n"
     ]
    }
   ],
   "source": [
    "import numpy as np\n",
    "import pandas as pd\n",
    "\n",
    "import seaborn as sns\n",
    "import matplotlib.pyplot as plt\n",
    "%matplotlib inline\n",
    "\n",
    "from sklearn.datasets.samples_generator import make_blobs\n",
    "from sklearn.preprocessing import StandardScaler\n",
    "from sklearn import metrics\n",
    "\n",
    "import time\n",
    "import os\n",
    "import struct\n",
    "import re\n",
    "import warnings\n",
    "\n",
    "from sklearn.manifold import TSNE\n",
    "from sklearn.mixture import GaussianMixture\n",
    "from sklearn.neighbors import NearestNeighbors\n",
    "from sklearn.neighbors import KNeighborsClassifier\n",
    "import sklearn.cluster as cluster\n",
    "from sklearn.cluster import DBSCAN\n",
    "\n",
    "import debacl as dcl\n",
    "import hdbscan\n",
    "from hdbscan import HDBSCAN"
   ]
  },
  {
   "cell_type": "code",
   "execution_count": 2,
   "metadata": {},
   "outputs": [],
   "source": [
    "\"\"\"\n",
    "Load preapred dataset in terms of x, y, and z co-ordinates\n",
    "\"\"\"\n",
    "\n",
    "points = pd.read_pickle('processed_Cu-Cr-data_clustering_x_y_z.pkl')\n",
    "points = points.iloc[:,:3].values"
   ]
  },
  {
   "cell_type": "code",
   "execution_count": 2,
   "metadata": {},
   "outputs": [],
   "source": [
    "\"\"\"\n",
    "The function that accepts 'min_cluster_radius_A' (in angstroms).\n",
    "Returns the minimum no of atoms (data entires) to be classified as a cluster. This is an estimate.\n",
    "The lattice parameter of precipitate rich in chromium is 3.68 A, reference below in the markdown section. \n",
    "\"\"\"\n",
    "\n",
    "def min_atoms_per_cluster(min_cluster_radius_A = 2.0): \n",
    "\n",
    "    min_cluster_volume = (4*np.pi/3)*(min_cluster_radius_A**3)*0.5  # aspect ratio of 0.5 in the 3rd dimension\n",
    "    \n",
    "    # Unit cell related dimensions and volume\n",
    "    unitcell_volume = 3.68**3      # in A^3\n",
    "    \n",
    "    # 4 atoms per FCC unit cell\n",
    "    atoms_per_unitcell = 4  \n",
    "    \n",
    "    atoms_in_cluster = (min_cluster_volume/unitcell_volume)*atoms_per_unitcell\n",
    "    \n",
    "    #detection_eff: to compare with the measured dataset and the true atomic density in the material\n",
    "    detection_eff = 0.80 \n",
    "    \n",
    "    # estimate of no of atoms detected experimentally in a cluster\n",
    "    return int(np.floor((atoms_in_cluster)*detection_eff))  \n",
    "    "
   ]
  },
  {
   "cell_type": "markdown",
   "metadata": {},
   "source": [
    "- The lattice parameter of precipitates containing Cr is 3.68 A and can be found in my [publication](https://www.sciencedirect.com/science/article/abs/pii/S1359645420305413)\n",
    "    - so that unit cell volume = 3.68^3 \n",
    "- The [detection effeciency](https://www.cameca.com/products/apt/leap-5000) of the experimental instrument for atom probe tomography, i.e. LEAP 5000, is 80 % \n",
    "- The clusters are expected to be of FCC crystal structure due to low nucleation barrier, as the matrix is copper FCC. \n",
    "- The [paper](https://www.sciencedirect.com/science/article/abs/pii/S1359645499004115?via%3Dihub) by Fujii et al. argue in favor of this argument. Therefore, the number of atoms per FCC unit cell is 4."
   ]
  },
  {
   "cell_type": "code",
   "execution_count": 3,
   "metadata": {},
   "outputs": [
    {
     "data": {
      "text/plain": [
       "295"
      ]
     },
     "execution_count": 3,
     "metadata": {},
     "output_type": "execute_result"
    }
   ],
   "source": [
    "# cluster diameter = 2.6 nm; radius = 1.3 nm\n",
    "min_atoms_per_cluster(min_cluster_radius_A = 13) "
   ]
  },
  {
   "cell_type": "markdown",
   "metadata": {},
   "source": [
    "## HDBSCAN clusteing model training with different hyperparameters\n",
    "\n",
    "\n",
    "**Why HDBSCAN algorithm?**\n",
    "\n",
    "- (1) Due to the constraint from physics, specifically from experimental atom probe tomography (APT), that the clusters are associated with different atomic densities. The details may be found in this [paper](https://www.sciencedirect.com/science/article/pii/S0304399101001206?casa_token=iN0WBVLBsI0AAAAA:rzLszlgFV2A3CgGdbZ_GG84EPLN7DZISxJRQaRWpHIkEitoI20M6d3exd47WxfXXQvxsDyChyJU) \n",
    "\n",
    "- (2) The input experimental spatial data, is expected to be associated with Gaussian noise. HDBSCAN is robust for this purpose as well.\n",
    "- (3) Possibility to also extract hierarchical relation between noted clusters. \n",
    "- (4) The present work draws from the [publication](https://www.sciencedirect.com/science/article/abs/pii/S0304399118303267) by Ghamarian and Marquis, but differs in on following counts:\n",
    "    - model hyperparameters\n",
    "    - additional criterion for outlier identification and removal. \n",
    "    - Implementation in python, as opposed to Matlab by Ghamarian et al.  \n",
    "\n",
    "**Hyperparameters and their role:**\n",
    "- (1) min_cluster_size         : single linkage splits that contain fewer points than this, will be considered points \"falling out\" of a cluster rather than a cluster splitting into two new clusters.       \n",
    "- (2) cluster_selection_epsilon: ensures that clusters below the given threshold are not split up any further.\n",
    "- (3) cluster_selection_method : 'left' provides the most fine-grained and homogeneous clusters."
   ]
  },
  {
   "cell_type": "code",
   "execution_count": 28,
   "metadata": {},
   "outputs": [
    {
     "name": "stdout",
     "output_type": "stream",
     "text": [
      "\n",
      "\n",
      "++ HDBSCAN Results\n",
      "Estimated number of clusters:  319\n"
     ]
    }
   ],
   "source": [
    "# Now, let me use the estimate obtained based on cluster radius input into the HDBSCAN model\n",
    "hdb0 = HDBSCAN(min_cluster_size= 295, cluster_selection_epsilon=0, cluster_selection_method='leaf', allow_single_cluster=True, gen_min_span_tree=True).fit(points)\n",
    "hdb_labels0 = hdb0.labels_\n",
    "\n",
    "n_clusters_hdb_0 = len(set(hdb_labels0)) - (1 if -1 in hdb_labels0 else 0)\n",
    "\n",
    "print('\\n\\n++ HDBSCAN Results')\n",
    "print('Estimated number of clusters:  %d' % (n_clusters_hdb_0))\n",
    "# Duration 18-24 min if full RAM is being used or not"
   ]
  },
  {
   "cell_type": "code",
   "execution_count": 4,
   "metadata": {},
   "outputs": [
    {
     "data": {
      "text/plain": [
       "134"
      ]
     },
     "execution_count": 4,
     "metadata": {},
     "output_type": "execute_result"
    }
   ],
   "source": [
    "# cluster diameter = 2 nm; radius = 1.0 nm\n",
    "min_atoms_per_cluster(min_cluster_radius_A = 10)"
   ]
  },
  {
   "cell_type": "code",
   "execution_count": 87,
   "metadata": {},
   "outputs": [
    {
     "name": "stdout",
     "output_type": "stream",
     "text": [
      "\n",
      "\n",
      "++ HDBSCAN Results\n",
      "Estimated number of clusters:  : 840\n"
     ]
    }
   ],
   "source": [
    "hdb0 = HDBSCAN(min_cluster_size= 134, cluster_selection_epsilon=0, cluster_selection_method='leaf', allow_single_cluster=True, gen_min_span_tree=True).fit(points)\n",
    "hdb_labels0 = hdb0.labels_\n",
    "\n",
    "n_clusters_hdb_0 = len(set(hdb_labels0)) - (1 if -1 in hdb_labels0 else 0)\n",
    "\n",
    "print('\\n\\n++ HDBSCAN Results')\n",
    "print('Estimated number of clusters:  : %d' % (n_clusters_hdb_0))"
   ]
  },
  {
   "cell_type": "code",
   "execution_count": 97,
   "metadata": {},
   "outputs": [
    {
     "name": "stdout",
     "output_type": "stream",
     "text": [
      "\n",
      "\n",
      "++ HDBSCAN Results\n",
      "Estimated number of clusters:  : 3264\n"
     ]
    }
   ],
   "source": [
    "hdb0 = HDBSCAN(min_cluster_size= 50, cluster_selection_epsilon=0, cluster_selection_method='leaf', allow_single_cluster=True, gen_min_span_tree=True).fit(points)\n",
    "hdb_labels0 = hdb0.labels_\n",
    "\n",
    "n_clusters_hdb_0 = len(set(hdb_labels0)) - (1 if -1 in hdb_labels0 else 0)\n",
    "\n",
    "print('\\n\\n++ HDBSCAN Results')\n",
    "print('Estimated number of clusters:  : %d' % (n_clusters_hdb_0))"
   ]
  },
  {
   "cell_type": "code",
   "execution_count": 8,
   "metadata": {},
   "outputs": [
    {
     "name": "stdout",
     "output_type": "stream",
     "text": [
      "\n",
      "\n",
      "++ HDBSCAN Results\n",
      "Estimated number of clusters:  : 5811\n"
     ]
    }
   ],
   "source": [
    "hdb0 = HDBSCAN(min_cluster_size= 30, cluster_selection_epsilon=0, cluster_selection_method='leaf', allow_single_cluster=True, gen_min_span_tree=True).fit(points)\n",
    "hdb_labels0 = hdb0.labels_\n",
    "\n",
    "n_clusters_hdb_0 = len(set(hdb_labels0)) - (1 if -1 in hdb_labels0 else 0)\n",
    "\n",
    "print('\\n\\n++ HDBSCAN Results')\n",
    "print('Estimated number of clusters:  : %d' % (n_clusters_hdb_0))"
   ]
  },
  {
   "cell_type": "code",
   "execution_count": null,
   "metadata": {},
   "outputs": [],
   "source": [
    "hdb0 = HDBSCAN(min_cluster_size= 1075, cluster_selection_epsilon=0, cluster_selection_method='leaf', allow_single_cluster=True, gen_min_span_tree=True).fit(points)\n",
    "hdb_labels0 = hdb0.labels_\n",
    "# Number of clusters in labels, ignoring noise if present\n",
    "# Reference: https://michael-fuchs-python.netlify.app/2020/06/20/hdbscan/\n",
    "n_clusters_hdb_0 = len(set(hdb_labels0)) - (1 if -1 in hdb_labels0 else 0)\n",
    "\n",
    "print('\\n\\n++ HDBSCAN Results')\n",
    "print('Estimated number of clusters:  %d' % (n_clusters_hdb_0))\n",
    "# Duration > 2.30 hrs for cluster size of 1075"
   ]
  },
  {
   "cell_type": "markdown",
   "metadata": {},
   "source": [
    "## Retrieve and save results of HDBSCAN clustering model for each hyperparameter"
   ]
  },
  {
   "cell_type": "code",
   "execution_count": 9,
   "metadata": {},
   "outputs": [],
   "source": [
    "\"\"\"\n",
    "Construction of a dataframe using clustering results: labels, probabilities, outlier_scores. \n",
    "Each of the three columns are attributes of the fitted model.\n",
    "Note: length of each of the three outputs are the same, and correspond to each data entry.\n",
    "\"\"\"\n",
    "result = pd.DataFrame({'labels': list(hdb0.labels_),'probabilities': list(hdb0.probabilities_) ,'outlier_scores': list(hdb0.outlier_scores_)}, columns=['labels', 'probabilities','outlier_scores'])"
   ]
  },
  {
   "cell_type": "code",
   "execution_count": 10,
   "metadata": {},
   "outputs": [],
   "source": [
    "def dict_persistance_from_lables(model = hdb0):\n",
    "    upper_bound_range = len(set(model.labels_)) - 1\n",
    "    dict_label_persistance = dict(zip(list(range(upper_bound_range)), list(model.cluster_persistence_)))\n",
    "    dict_label_persistance[-1] = np.nan\n",
    "    return dict_label_persistance"
   ]
  },
  {
   "cell_type": "code",
   "execution_count": 11,
   "metadata": {},
   "outputs": [],
   "source": [
    "dict_label_persistance = dict_persistance_from_lables(model = hdb0)"
   ]
  },
  {
   "cell_type": "code",
   "execution_count": 12,
   "metadata": {},
   "outputs": [
    {
     "data": {
      "text/html": [
       "<div>\n",
       "<style scoped>\n",
       "    .dataframe tbody tr th:only-of-type {\n",
       "        vertical-align: middle;\n",
       "    }\n",
       "\n",
       "    .dataframe tbody tr th {\n",
       "        vertical-align: top;\n",
       "    }\n",
       "\n",
       "    .dataframe thead th {\n",
       "        text-align: right;\n",
       "    }\n",
       "</style>\n",
       "<table border=\"1\" class=\"dataframe\">\n",
       "  <thead>\n",
       "    <tr style=\"text-align: right;\">\n",
       "      <th></th>\n",
       "      <th>labels</th>\n",
       "      <th>probabilities</th>\n",
       "      <th>outlier_scores</th>\n",
       "    </tr>\n",
       "  </thead>\n",
       "  <tbody>\n",
       "    <tr>\n",
       "      <th>0</th>\n",
       "      <td>-1</td>\n",
       "      <td>0.0</td>\n",
       "      <td>0.000845</td>\n",
       "    </tr>\n",
       "    <tr>\n",
       "      <th>1</th>\n",
       "      <td>-1</td>\n",
       "      <td>0.0</td>\n",
       "      <td>0.011399</td>\n",
       "    </tr>\n",
       "    <tr>\n",
       "      <th>2</th>\n",
       "      <td>-1</td>\n",
       "      <td>0.0</td>\n",
       "      <td>0.012574</td>\n",
       "    </tr>\n",
       "    <tr>\n",
       "      <th>3</th>\n",
       "      <td>-1</td>\n",
       "      <td>0.0</td>\n",
       "      <td>0.006462</td>\n",
       "    </tr>\n",
       "    <tr>\n",
       "      <th>4</th>\n",
       "      <td>5508</td>\n",
       "      <td>1.0</td>\n",
       "      <td>0.000000</td>\n",
       "    </tr>\n",
       "  </tbody>\n",
       "</table>\n",
       "</div>"
      ],
      "text/plain": [
       "   labels  probabilities  outlier_scores\n",
       "0      -1            0.0        0.000845\n",
       "1      -1            0.0        0.011399\n",
       "2      -1            0.0        0.012574\n",
       "3      -1            0.0        0.006462\n",
       "4    5508            1.0        0.000000"
      ]
     },
     "execution_count": 12,
     "metadata": {},
     "output_type": "execute_result"
    }
   ],
   "source": [
    "result.head()"
   ]
  },
  {
   "cell_type": "markdown",
   "metadata": {},
   "source": [
    "## populate cluster_persistance scores for each dataentry by mapping with label ID number "
   ]
  },
  {
   "cell_type": "code",
   "execution_count": 13,
   "metadata": {},
   "outputs": [],
   "source": [
    "result['cluster_persistence'] = result['labels'].map(dict_label_persistance)"
   ]
  },
  {
   "cell_type": "code",
   "execution_count": 14,
   "metadata": {},
   "outputs": [
    {
     "data": {
      "text/html": [
       "<div>\n",
       "<style scoped>\n",
       "    .dataframe tbody tr th:only-of-type {\n",
       "        vertical-align: middle;\n",
       "    }\n",
       "\n",
       "    .dataframe tbody tr th {\n",
       "        vertical-align: top;\n",
       "    }\n",
       "\n",
       "    .dataframe thead th {\n",
       "        text-align: right;\n",
       "    }\n",
       "</style>\n",
       "<table border=\"1\" class=\"dataframe\">\n",
       "  <thead>\n",
       "    <tr style=\"text-align: right;\">\n",
       "      <th></th>\n",
       "      <th>labels</th>\n",
       "      <th>probabilities</th>\n",
       "      <th>outlier_scores</th>\n",
       "      <th>cluster_persistence</th>\n",
       "    </tr>\n",
       "  </thead>\n",
       "  <tbody>\n",
       "    <tr>\n",
       "      <th>0</th>\n",
       "      <td>-1</td>\n",
       "      <td>0.0</td>\n",
       "      <td>0.000845</td>\n",
       "      <td>NaN</td>\n",
       "    </tr>\n",
       "    <tr>\n",
       "      <th>1</th>\n",
       "      <td>-1</td>\n",
       "      <td>0.0</td>\n",
       "      <td>0.011399</td>\n",
       "      <td>NaN</td>\n",
       "    </tr>\n",
       "    <tr>\n",
       "      <th>2</th>\n",
       "      <td>-1</td>\n",
       "      <td>0.0</td>\n",
       "      <td>0.012574</td>\n",
       "      <td>NaN</td>\n",
       "    </tr>\n",
       "    <tr>\n",
       "      <th>3</th>\n",
       "      <td>-1</td>\n",
       "      <td>0.0</td>\n",
       "      <td>0.006462</td>\n",
       "      <td>NaN</td>\n",
       "    </tr>\n",
       "    <tr>\n",
       "      <th>4</th>\n",
       "      <td>5508</td>\n",
       "      <td>1.0</td>\n",
       "      <td>0.000000</td>\n",
       "      <td>0.690904</td>\n",
       "    </tr>\n",
       "  </tbody>\n",
       "</table>\n",
       "</div>"
      ],
      "text/plain": [
       "   labels  probabilities  outlier_scores  cluster_persistence\n",
       "0      -1            0.0        0.000845                  NaN\n",
       "1      -1            0.0        0.011399                  NaN\n",
       "2      -1            0.0        0.012574                  NaN\n",
       "3      -1            0.0        0.006462                  NaN\n",
       "4    5508            1.0        0.000000             0.690904"
      ]
     },
     "execution_count": 14,
     "metadata": {},
     "output_type": "execute_result"
    }
   ],
   "source": [
    "result.head()"
   ]
  },
  {
   "cell_type": "code",
   "execution_count": 15,
   "metadata": {},
   "outputs": [],
   "source": [
    "result.to_pickle('HDBSCAN_clustersize30_noofclusters5811.pkl')"
   ]
  },
  {
   "cell_type": "markdown",
   "metadata": {},
   "source": [
    "## Frequency distribution curves: 'outlier_scores' and 'probabilities' associated with clusters"
   ]
  },
  {
   "cell_type": "code",
   "execution_count": 16,
   "metadata": {},
   "outputs": [
    {
     "name": "stderr",
     "output_type": "stream",
     "text": [
      "C:\\Users\\04965\\Anaconda3\\envs\\new_projects\\lib\\site-packages\\seaborn\\distributions.py:2551: FutureWarning: `distplot` is a deprecated function and will be removed in a future version. Please adapt your code to use either `displot` (a figure-level function with similar flexibility) or `histplot` (an axes-level function for histograms).\n",
      "  warnings.warn(msg, FutureWarning)\n",
      "INFO (2021-10-30 11:21:31): NumExpr defaulting to 8 threads.\n",
      "C:\\Users\\04965\\Anaconda3\\envs\\new_projects\\lib\\site-packages\\seaborn\\distributions.py:2055: FutureWarning: The `axis` variable is no longer used and will be removed. Instead, assign variables directly to `x` or `y`.\n",
      "  warnings.warn(msg, FutureWarning)\n"
     ]
    },
    {
     "data": {
      "text/plain": [
       "<AxesSubplot:ylabel='Density'>"
      ]
     },
     "execution_count": 16,
     "metadata": {},
     "output_type": "execute_result"
    },
    {
     "data": {
      "image/png": "[encoded data removed]",
      "text/plain": [
       "<Figure size 432x288 with 1 Axes>"
      ]
     },
     "metadata": {
      "needs_background": "light"
     },
     "output_type": "display_data"
    }
   ],
   "source": [
    "sns.distplot(hdb0.outlier_scores_[np.isfinite(hdb0.outlier_scores_)], rug=True)"
   ]
  },
  {
   "cell_type": "code",
   "execution_count": 17,
   "metadata": {},
   "outputs": [
    {
     "name": "stderr",
     "output_type": "stream",
     "text": [
      "C:\\Users\\04965\\Anaconda3\\envs\\new_projects\\lib\\site-packages\\seaborn\\distributions.py:2551: FutureWarning: `distplot` is a deprecated function and will be removed in a future version. Please adapt your code to use either `displot` (a figure-level function with similar flexibility) or `histplot` (an axes-level function for histograms).\n",
      "  warnings.warn(msg, FutureWarning)\n",
      "C:\\Users\\04965\\Anaconda3\\envs\\new_projects\\lib\\site-packages\\seaborn\\distributions.py:2055: FutureWarning: The `axis` variable is no longer used and will be removed. Instead, assign variables directly to `x` or `y`.\n",
      "  warnings.warn(msg, FutureWarning)\n"
     ]
    },
    {
     "data": {
      "text/plain": [
       "<AxesSubplot:ylabel='Density'>"
      ]
     },
     "execution_count": 17,
     "metadata": {},
     "output_type": "execute_result"
    },
    {
     "data": {
      "image/png": "[encoded data removed]",
      "text/plain": [
       "<Figure size 432x288 with 1 Axes>"
      ]
     },
     "metadata": {
      "needs_background": "light"
     },
     "output_type": "display_data"
    }
   ],
   "source": [
    "sns.distplot(hdb0.probabilities_[np.isfinite(hdb0.probabilities_)], rug=True)"
   ]
  },
  {
   "cell_type": "code",
   "execution_count": 18,
   "metadata": {},
   "outputs": [
    {
     "data": {
      "text/plain": [
       "498.2195061876099"
      ]
     },
     "execution_count": 18,
     "metadata": {},
     "output_type": "execute_result"
    }
   ],
   "source": [
    "sum(hdb0.cluster_persistence_)"
   ]
  },
  {
   "cell_type": "code",
   "execution_count": 35,
   "metadata": {},
   "outputs": [
    {
     "name": "stderr",
     "output_type": "stream",
     "text": [
      "C:\\Users\\04965\\Anaconda3\\envs\\new_projects\\lib\\site-packages\\seaborn\\distributions.py:2551: FutureWarning: `distplot` is a deprecated function and will be removed in a future version. Please adapt your code to use either `displot` (a figure-level function with similar flexibility) or `histplot` (an axes-level function for histograms).\n",
      "  warnings.warn(msg, FutureWarning)\n",
      "C:\\Users\\04965\\Anaconda3\\envs\\new_projects\\lib\\site-packages\\seaborn\\distributions.py:2055: FutureWarning: The `axis` variable is no longer used and will be removed. Instead, assign variables directly to `x` or `y`.\n",
      "  warnings.warn(msg, FutureWarning)\n"
     ]
    },
    {
     "data": {
      "text/plain": [
       "<AxesSubplot:ylabel='Density'>"
      ]
     },
     "execution_count": 35,
     "metadata": {},
     "output_type": "execute_result"
    },
    {
     "data": {
      "image/png": "[encoded data removed]",
      "text/plain": [
       "<Figure size 432x288 with 1 Axes>"
      ]
     },
     "metadata": {
      "needs_background": "light"
     },
     "output_type": "display_data"
    }
   ],
   "source": [
    "sns.distplot(hdb0.outlier_scores_[np.isfinite(hdb0.outlier_scores_)], rug=True)"
   ]
  },
  {
   "cell_type": "code",
   "execution_count": 36,
   "metadata": {},
   "outputs": [
    {
     "data": {
      "text/plain": [
       "array([0., 0., 0., ..., 0., 0., 0.])"
      ]
     },
     "execution_count": 36,
     "metadata": {},
     "output_type": "execute_result"
    }
   ],
   "source": [
    "hdb0.probabilities_"
   ]
  },
  {
   "cell_type": "code",
   "execution_count": 42,
   "metadata": {},
   "outputs": [
    {
     "data": {
      "text/plain": [
       "2298749"
      ]
     },
     "execution_count": 42,
     "metadata": {},
     "output_type": "execute_result"
    }
   ],
   "source": [
    "len(hdb0.probabilities_)"
   ]
  },
  {
   "cell_type": "code",
   "execution_count": 37,
   "metadata": {},
   "outputs": [
    {
     "name": "stderr",
     "output_type": "stream",
     "text": [
      "C:\\Users\\04965\\Anaconda3\\envs\\new_projects\\lib\\site-packages\\seaborn\\distributions.py:2551: FutureWarning: `distplot` is a deprecated function and will be removed in a future version. Please adapt your code to use either `displot` (a figure-level function with similar flexibility) or `histplot` (an axes-level function for histograms).\n",
      "  warnings.warn(msg, FutureWarning)\n",
      "C:\\Users\\04965\\Anaconda3\\envs\\new_projects\\lib\\site-packages\\seaborn\\distributions.py:2055: FutureWarning: The `axis` variable is no longer used and will be removed. Instead, assign variables directly to `x` or `y`.\n",
      "  warnings.warn(msg, FutureWarning)\n"
     ]
    },
    {
     "data": {
      "text/plain": [
       "<AxesSubplot:ylabel='Density'>"
      ]
     },
     "execution_count": 37,
     "metadata": {},
     "output_type": "execute_result"
    },
    {
     "data": {
      "image/png": "[encoded data removed]",
      "text/plain": [
       "<Figure size 432x288 with 1 Axes>"
      ]
     },
     "metadata": {
      "needs_background": "light"
     },
     "output_type": "display_data"
    }
   ],
   "source": [
    "sns.distplot(hdb0.probabilities_[np.isfinite(hdb0.probabilities_)], rug=True)"
   ]
  },
  {
   "cell_type": "code",
   "execution_count": 38,
   "metadata": {},
   "outputs": [
    {
     "data": {
      "text/plain": [
       "320"
      ]
     },
     "execution_count": 38,
     "metadata": {},
     "output_type": "execute_result"
    }
   ],
   "source": [
    "len(set(hdb0.labels_)) # 319 clusters and 1 for noise"
   ]
  },
  {
   "cell_type": "code",
   "execution_count": null,
   "metadata": {},
   "outputs": [],
   "source": []
  }
 ],
 "metadata": {
  "kernelspec": {
   "display_name": "Python 3",
   "language": "python",
   "name": "python3"
  },
  "language_info": {
   "codemirror_mode": {
    "name": "ipython",
    "version": 3
   },
   "file_extension": ".py",
   "mimetype": "text/x-python",
   "name": "python",
   "nbconvert_exporter": "python",
   "pygments_lexer": "ipython3",
   "version": "3.8.5"
  }
 },
 "nbformat": 4,
 "nbformat_minor": 4
}
