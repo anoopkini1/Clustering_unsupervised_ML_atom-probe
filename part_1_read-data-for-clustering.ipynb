{
 "cells": [
  {
   "cell_type": "markdown",
   "metadata": {},
   "source": [
    "## Import relevant libraries for data pre-processing\n",
    "   - A couple of libraries that were not installed via conda were attempted with pip"
   ]
  },
  {
   "cell_type": "code",
   "execution_count": 1,
   "metadata": {},
   "outputs": [],
   "source": [
    "import numpy as np\n",
    "import pandas as pd\n",
    "import seaborn as sns\n",
    "\n",
    "import matplotlib.pyplot as plt\n",
    "import matplotlib.patches as patches\n",
    "import matplotlib.cm as cmx\n",
    "from mpl_toolkits import mplot3d\n",
    "\n",
    "from tqdm import tqdm\n",
    "from mpl_toolkits.mplot3d import Axes3D\n",
    "\n",
    "import os\n",
    "import struct\n",
    "import re\n",
    "import warnings\n",
    "\n",
    "#import mpl_scatter_density\n",
    "from scipy import stats\n",
    "from scipy.optimize import curve_fit\n",
    "from scipy import asarray as ar,exp\n",
    "from scipy.stats import norm\n",
    "\n",
    "\n",
    "import apav as ap\n",
    "\n",
    "from sklearn.manifold import TSNE\n",
    "from sklearn.mixture import GaussianMixture\n",
    "from sklearn.neighbors import NearestNeighbors\n",
    "from sklearn.neighbors import KNeighborsClassifier"
   ]
  },
  {
   "cell_type": "markdown",
   "metadata": {},
   "source": [
    "## Read the 'raw files' obtained from atom probe tomography experiments\n",
    "   - The file corresponds to measured 18 million time resolved events as data entries (.epos file)\n",
    "   - The mass-spectrum range file must also be read (.rrng) "
   ]
  },
  {
   "cell_type": "code",
   "execution_count": 2,
   "metadata": {},
   "outputs": [],
   "source": [
    "\"\"\"\n",
    "The function reads a user specfied .rrng file containing every labelled peak range in terms of mass/charge ratio.\n",
    "\"\"\"\n",
    "def read_rrng(f):\n",
    "    rf = open(f,'r').readlines()\n",
    "    patterns = re.compile(r'Ion([0-9]+)=([A-Za-z0-9]+).*|Range([0-9]+)=(\\d+.\\d+) +(\\d+.\\d+) +Vol:(\\d+.\\d+) +([A-Za-z:0-9 ]+) +Color:([A-Z0-9]{6})')\n",
    "    ions = []\n",
    "    rrngs = []\n",
    "    for line in rf:\n",
    "        m = patterns.search(line)\n",
    "        \n",
    "        if m:\n",
    "            if m.groups()[0] is not None:\n",
    "                ions.append(m.groups()[:2])\n",
    "            else:\n",
    "                rrngs.append(m.groups()[2:])\n",
    "                \n",
    "    ions = pd.DataFrame(ions, columns=['number','name'])\n",
    "    ions.set_index('number',inplace=True)\n",
    "    \n",
    "    rrngs = pd.DataFrame(rrngs, columns=['number','lower','upper','vol','comp','colour'])\n",
    "    rrngs.set_index('number',inplace=True) \n",
    "    \n",
    "    rrngs[['lower','upper','vol']] = rrngs[['lower','upper','vol']].astype(float)\n",
    "    rrngs[['comp','colour']] = rrngs[['comp','colour']].astype(str)\n",
    "    \n",
    "    return ions,rrngs"
   ]
  },
  {
   "cell_type": "code",
   "execution_count": 3,
   "metadata": {},
   "outputs": [],
   "source": [
    "\"\"\"\n",
    "The function reads a user specfied .epos file containing spatial information.\n",
    "\"\"\"\n",
    "def read_epos(file_name):\n",
    "    \n",
    "    f = open(file_name, 'rb')\n",
    "    \n",
    "    dt_type = np.dtype({'names':['x', 'y', 'z', 'm'], \n",
    "                  'formats':['>f4', '>f4', '>f4', '>f4']})\n",
    "    \n",
    "    epos_new = np.fromfile(f, dt_type, -1)\n",
    "    f.close()\n",
    "    \n",
    "    return epos_new"
   ]
  },
  {
   "cell_type": "code",
   "execution_count": 4,
   "metadata": {},
   "outputs": [
    {
     "data": {
      "text/plain": [
       "array([( 4.30381626e-01,  4.2453604e+00, 3.270586e-01, 6.2941795e+01),\n",
       "       ( 1.00510205e+03,  2.9097000e+03, 0.000000e+00, 2.6488397e-01),\n",
       "       ( 1.60342274e+01,  1.8468962e-37, 1.401298e-45, 9.4592991e+00),\n",
       "       ...,\n",
       "       (-1.04061556e+01, -3.5342262e+00, 1.401298e-45, 1.4012985e-45),\n",
       "       ( 3.84736347e+00, -8.6444101e+00, 9.564320e+01, 6.2904789e+01),\n",
       "       ( 8.48302246e+02,  3.9956599e+03, 0.000000e+00, 4.5030274e+00)],\n",
       "      dtype=[('x', '>f4'), ('y', '>f4'), ('z', '>f4'), ('m', '>f4')])"
      ]
     },
     "execution_count": 4,
     "metadata": {},
     "output_type": "execute_result"
    }
   ],
   "source": [
    "read_epos(r\"R76_22213-v11.epos\")"
   ]
  },
  {
   "cell_type": "code",
   "execution_count": 5,
   "metadata": {},
   "outputs": [
    {
     "data": {
      "text/plain": [
       "(       name\n",
       " number     \n",
       " 1        Cr\n",
       " 2        Cu\n",
       " 3        Fe\n",
       " 4        Ni\n",
       " 5        Co\n",
       " 6        Mn\n",
       " 7         B\n",
       " 8        Be\n",
       " 9         C\n",
       " 10        V\n",
       " 11       Zr\n",
       " 12       Nb\n",
       " 13       Zn\n",
       " 14       Ga\n",
       " 15       Ti,\n",
       "          lower   upper      vol  comp  colour\n",
       " number                                       \n",
       " 1       25.900  26.307  0.01201  Cr:1  FF33CC\n",
       " 2       26.393  26.726  0.01201  Cr:1  FF33CC\n",
       " 3       24.851  25.171  0.01201  Cr:1  FF33CC\n",
       " 4       51.795  52.211  0.01201  Cr:1  FF33CC\n",
       " 5       52.705  53.151  0.01201  Cr:1  FF33CC\n",
       " 6       49.767  50.124  0.01201  Cr:1  FF33CC\n",
       " 7       62.655  63.654  0.01181  Cu:1  FF6600\n",
       " 8       64.687  65.521  0.01181  Cu:1  FF6600\n",
       " 9       31.310  31.718  0.01181  Cu:1  FF6600\n",
       " 10      32.450  32.651  0.01181  Cu:1  FF6600\n",
       " 11      27.878  28.287  0.01177  Fe:1  FF00FF\n",
       " 12      28.397  28.699  0.01177  Fe:1  FF00FF\n",
       " 13      26.827  27.146  0.01177  Fe:1  FF00FF\n",
       " 14      55.862  56.156  0.01177  Fe:1  FF00FF\n",
       " 15      56.780  57.096  0.01177  Fe:1  FF00FF\n",
       " 16      53.769  54.090  0.01177  Fe:1  FF00FF\n",
       " 17      18.514  18.716  0.01177  Fe:1  FF00FF\n",
       " 18      18.927  19.028  0.01177  Fe:1  FF00FF\n",
       " 19      57.817  58.150  0.01094  Ni:1  00CC00\n",
       " 20      59.800  60.122  0.01094  Ni:1  00CC00\n",
       " 21      28.830  29.135  0.01094  Ni:1  00CC00\n",
       " 22      29.846  30.061  0.01094  Ni:1  00CC00\n",
       " 23      31.926  32.138  0.01094  Ni:1  00CC00\n",
       " 24      60.847  61.048  0.01094  Ni:1  00CC00\n",
       " 25      61.869  62.088  0.01094  Ni:1  00CC00\n",
       " 26      29.432  29.562  0.01108  Co:1  0000FF\n",
       " 27      58.868  59.176  0.01108  Co:1  0000FF\n",
       " 28      27.357  27.558  0.01221  Mn:1  CCCC00\n",
       " 29      54.822  55.029  0.01221  Mn:1  CCCC00\n",
       " 30      18.267  18.411  0.01221  Mn:1  CCCC00\n",
       " 31       5.412   5.623  0.00729   B:1  0033FF\n",
       " 32       9.879  10.195  0.00729   B:1  0033FF\n",
       " 33      10.921  11.132  0.00729   B:1  0033FF\n",
       " 34       4.474   4.581  0.00805  Be:1  6600FF\n",
       " 35       8.951   9.153  0.00805  Be:1  6600FF\n",
       " 36      11.954  12.169  0.00878   C:1  660033\n",
       " 37      12.895  13.101  0.00878   C:1  660033\n",
       " 38      12.380  12.587  0.00878   C:1  660033\n",
       " 39      25.372  25.584  0.01382   V:1  CC00CC\n",
       " 40      44.888  45.132  0.02328  Zr:1  660066\n",
       " 41      45.347  45.570  0.02328  Zr:1  660066\n",
       " 42      45.870  46.078  0.02328  Zr:1  660066\n",
       " 43      46.903  47.111  0.02328  Zr:1  660066\n",
       " 44      47.836  48.051  0.02328  Zr:1  660066\n",
       " 45      46.380  46.590  0.01798  Nb:1  CC6600\n",
       " 46      30.894  31.001  0.01798  Nb:1  CC6600\n",
       " 47      65.862  66.040  0.01521  Zn:1  999999\n",
       " 48      63.864  64.073  0.01521  Zn:1  999999\n",
       " 49      67.920  68.121  0.01521  Zn:1  999999\n",
       " 50      68.700  69.163  0.01960  Ga:1  FFFF00\n",
       " 51      23.901  24.196  0.01767  Ti:1  003333\n",
       " 52      22.969  23.090  0.01767  Ti:1  003333)"
      ]
     },
     "execution_count": 5,
     "metadata": {},
     "output_type": "execute_result"
    }
   ],
   "source": [
    "read_rrng('R76_22213.rrng')"
   ]
  },
  {
   "cell_type": "code",
   "execution_count": 6,
   "metadata": {},
   "outputs": [
    {
     "name": "stdout",
     "output_type": "stream",
     "text": [
      "The total number of data entires are: 18.97 million\n"
     ]
    }
   ],
   "source": [
    "\"\"\"\n",
    "The total number of data entries are 18.96 million.\n",
    "\n",
    "Note: saving the data frame into excel is not even a remote possibility, \n",
    "as the latter can accomodate not beyond 2 million data entires. \n",
    "\"\"\"\n",
    "\n",
    "print(\"The total number of data entires are: {:.2f} million\".format(len(read_epos(r\"R76_22213-v11.epos\"))/1000000))"
   ]
  },
  {
   "cell_type": "code",
   "execution_count": 7,
   "metadata": {},
   "outputs": [],
   "source": [
    "\"\"\" \n",
    "Label each field evaporated ion corresponding to a given atom located in the parent material,\n",
    "before destructive APT test is conducted.\n",
    "\"\"\"\n",
    "def label_ions(pos,rrngs):\n",
    "\n",
    "    count=0;\n",
    "    for n,r in rrngs.iterrows():\n",
    "        count= count+1;\n",
    "        pos.loc[(pos.Da >= r.lower) & (pos.Da <= r.upper),['comp','colour', 'nature']] = [r['comp'],'#' + r['colour'],count]\n",
    "    \n",
    "    return pos"
   ]
  },
  {
   "cell_type": "markdown",
   "metadata": {},
   "source": [
    "### Co-ordinates scaling and verification\n",
    "\n",
    "- The relation between 'detector space' (40mm) and 'sample space' (40nm) must be specified.\n",
    "- The detector range for 'x' and 'y' are `4000 units` each = `40 nm` each, in the sample material. \n",
    "    - Therefore, 'x' and 'y', both must be scaled down by a factor of 100. \n",
    "    - Eventually, we have 'x' and 'y' coordinates ranging across 40 nm each (40 nm diameter; 20 nm radius), while the sample depth 'z' can vary up to 150 nm. \n",
    "- Reference: [link](https://www.microscopy.org/communities/presentations/2016_Larson-APT%20Data%20Reconstruction.pdf)"
   ]
  },
  {
   "cell_type": "code",
   "execution_count": 8,
   "metadata": {},
   "outputs": [],
   "source": [
    "rrange_file = 'R76_22213.rrng'\n",
    "ions, rrngs = read_rrng(rrange_file)\n",
    "epos_file = \"R76_22213-v11.epos\"\n",
    "pos = read_epos(epos_file)\n",
    "\n",
    "\n",
    "dpos = pd.DataFrame({'x':pos['x'],\n",
    "                            'y': pos['y'],\n",
    "                            'z': pos['z'],\n",
    "                            'Da': pos['m']})\n",
    "\n",
    "# co-ordinate scaling: This important step was earlier missed\n",
    "dpos['x'] = dpos['x']/100\n",
    "dpos['y'] = dpos['y']/100"
   ]
  },
  {
   "cell_type": "code",
   "execution_count": 9,
   "metadata": {},
   "outputs": [],
   "source": [
    "lpos = label_ions(dpos,rrngs)"
   ]
  },
  {
   "cell_type": "code",
   "execution_count": 10,
   "metadata": {},
   "outputs": [
    {
     "data": {
      "text/html": [
       "<div>\n",
       "<style scoped>\n",
       "    .dataframe tbody tr th:only-of-type {\n",
       "        vertical-align: middle;\n",
       "    }\n",
       "\n",
       "    .dataframe tbody tr th {\n",
       "        vertical-align: top;\n",
       "    }\n",
       "\n",
       "    .dataframe thead th {\n",
       "        text-align: right;\n",
       "    }\n",
       "</style>\n",
       "<table border=\"1\" class=\"dataframe\">\n",
       "  <thead>\n",
       "    <tr style=\"text-align: right;\">\n",
       "      <th></th>\n",
       "      <th>x</th>\n",
       "      <th>y</th>\n",
       "      <th>z</th>\n",
       "      <th>Da</th>\n",
       "      <th>comp</th>\n",
       "      <th>colour</th>\n",
       "      <th>nature</th>\n",
       "    </tr>\n",
       "  </thead>\n",
       "  <tbody>\n",
       "    <tr>\n",
       "      <th>0</th>\n",
       "      <td>0.004304</td>\n",
       "      <td>4.245360e-02</td>\n",
       "      <td>3.270586e-01</td>\n",
       "      <td>62.941795</td>\n",
       "      <td>Cu:1</td>\n",
       "      <td>#FF6600</td>\n",
       "      <td>7.0</td>\n",
       "    </tr>\n",
       "    <tr>\n",
       "      <th>1</th>\n",
       "      <td>10.051021</td>\n",
       "      <td>2.909700e+01</td>\n",
       "      <td>0.000000e+00</td>\n",
       "      <td>0.264884</td>\n",
       "      <td>NaN</td>\n",
       "      <td>NaN</td>\n",
       "      <td>NaN</td>\n",
       "    </tr>\n",
       "    <tr>\n",
       "      <th>2</th>\n",
       "      <td>0.160342</td>\n",
       "      <td>1.846896e-39</td>\n",
       "      <td>1.401298e-45</td>\n",
       "      <td>9.459299</td>\n",
       "      <td>NaN</td>\n",
       "      <td>NaN</td>\n",
       "      <td>NaN</td>\n",
       "    </tr>\n",
       "    <tr>\n",
       "      <th>3</th>\n",
       "      <td>0.040340</td>\n",
       "      <td>1.956822e-02</td>\n",
       "      <td>6.291315e+01</td>\n",
       "      <td>1019.159180</td>\n",
       "      <td>NaN</td>\n",
       "      <td>NaN</td>\n",
       "      <td>NaN</td>\n",
       "    </tr>\n",
       "    <tr>\n",
       "      <th>4</th>\n",
       "      <td>29.097000</td>\n",
       "      <td>0.000000e+00</td>\n",
       "      <td>1.664985e+01</td>\n",
       "      <td>15.811012</td>\n",
       "      <td>NaN</td>\n",
       "      <td>NaN</td>\n",
       "      <td>NaN</td>\n",
       "    </tr>\n",
       "  </tbody>\n",
       "</table>\n",
       "</div>"
      ],
      "text/plain": [
       "           x             y             z           Da  comp   colour  nature\n",
       "0   0.004304  4.245360e-02  3.270586e-01    62.941795  Cu:1  #FF6600     7.0\n",
       "1  10.051021  2.909700e+01  0.000000e+00     0.264884   NaN      NaN     NaN\n",
       "2   0.160342  1.846896e-39  1.401298e-45     9.459299   NaN      NaN     NaN\n",
       "3   0.040340  1.956822e-02  6.291315e+01  1019.159180   NaN      NaN     NaN\n",
       "4  29.097000  0.000000e+00  1.664985e+01    15.811012   NaN      NaN     NaN"
      ]
     },
     "execution_count": 10,
     "metadata": {},
     "output_type": "execute_result"
    }
   ],
   "source": [
    "lpos.head()"
   ]
  },
  {
   "cell_type": "markdown",
   "metadata": {},
   "source": [
    "### Criteria definition for noise identification and removal from \"Big dataset\""
   ]
  },
  {
   "cell_type": "code",
   "execution_count": 11,
   "metadata": {},
   "outputs": [],
   "source": [
    "\"\"\"\n",
    "Retaining only data entries those are labelled as elements, and removal of noisy data entires.\n",
    "\"\"\"\n",
    "lpos = lpos[lpos['nature'].notna()]"
   ]
  },
  {
   "cell_type": "code",
   "execution_count": 12,
   "metadata": {},
   "outputs": [
    {
     "data": {
      "text/html": [
       "<div>\n",
       "<style scoped>\n",
       "    .dataframe tbody tr th:only-of-type {\n",
       "        vertical-align: middle;\n",
       "    }\n",
       "\n",
       "    .dataframe tbody tr th {\n",
       "        vertical-align: top;\n",
       "    }\n",
       "\n",
       "    .dataframe thead th {\n",
       "        text-align: right;\n",
       "    }\n",
       "</style>\n",
       "<table border=\"1\" class=\"dataframe\">\n",
       "  <thead>\n",
       "    <tr style=\"text-align: right;\">\n",
       "      <th></th>\n",
       "      <th>x</th>\n",
       "      <th>y</th>\n",
       "      <th>z</th>\n",
       "      <th>Da</th>\n",
       "      <th>comp</th>\n",
       "      <th>colour</th>\n",
       "      <th>nature</th>\n",
       "    </tr>\n",
       "  </thead>\n",
       "  <tbody>\n",
       "    <tr>\n",
       "      <th>0</th>\n",
       "      <td>0.004304</td>\n",
       "      <td>4.245360e-02</td>\n",
       "      <td>3.270586e-01</td>\n",
       "      <td>62.941795</td>\n",
       "      <td>Cu:1</td>\n",
       "      <td>#FF6600</td>\n",
       "      <td>7.0</td>\n",
       "    </tr>\n",
       "    <tr>\n",
       "      <th>11</th>\n",
       "      <td>-0.130098</td>\n",
       "      <td>5.683204e-02</td>\n",
       "      <td>3.866135e+00</td>\n",
       "      <td>62.952465</td>\n",
       "      <td>Cu:1</td>\n",
       "      <td>#FF6600</td>\n",
       "      <td>7.0</td>\n",
       "    </tr>\n",
       "    <tr>\n",
       "      <th>22</th>\n",
       "      <td>-0.013294</td>\n",
       "      <td>-1.409252e-01</td>\n",
       "      <td>3.841610e+00</td>\n",
       "      <td>62.890915</td>\n",
       "      <td>Cu:1</td>\n",
       "      <td>#FF6600</td>\n",
       "      <td>7.0</td>\n",
       "    </tr>\n",
       "    <tr>\n",
       "      <th>33</th>\n",
       "      <td>-0.092710</td>\n",
       "      <td>-7.092165e-02</td>\n",
       "      <td>2.549284e+00</td>\n",
       "      <td>64.947853</td>\n",
       "      <td>Cu:1</td>\n",
       "      <td>#FF6600</td>\n",
       "      <td>8.0</td>\n",
       "    </tr>\n",
       "    <tr>\n",
       "      <th>35</th>\n",
       "      <td>-0.046875</td>\n",
       "      <td>2.802597e-45</td>\n",
       "      <td>1.401298e-45</td>\n",
       "      <td>9.955543</td>\n",
       "      <td>B:1</td>\n",
       "      <td>#0033FF</td>\n",
       "      <td>32.0</td>\n",
       "    </tr>\n",
       "  </tbody>\n",
       "</table>\n",
       "</div>"
      ],
      "text/plain": [
       "           x             y             z         Da  comp   colour  nature\n",
       "0   0.004304  4.245360e-02  3.270586e-01  62.941795  Cu:1  #FF6600     7.0\n",
       "11 -0.130098  5.683204e-02  3.866135e+00  62.952465  Cu:1  #FF6600     7.0\n",
       "22 -0.013294 -1.409252e-01  3.841610e+00  62.890915  Cu:1  #FF6600     7.0\n",
       "33 -0.092710 -7.092165e-02  2.549284e+00  64.947853  Cu:1  #FF6600     8.0\n",
       "35 -0.046875  2.802597e-45  1.401298e-45   9.955543   B:1  #0033FF    32.0"
      ]
     },
     "execution_count": 12,
     "metadata": {},
     "output_type": "execute_result"
    }
   ],
   "source": [
    "lpos.head()"
   ]
  },
  {
   "cell_type": "code",
   "execution_count": 13,
   "metadata": {},
   "outputs": [],
   "source": [
    "\"\"\"\n",
    "The function accepts a string, corresponding to a mass-spectrum peak label, and retains the element information only. \n",
    "If there are multiple peaks for a given element, only elemental information gets returned.\n",
    "\"\"\"\n",
    "def spectrumPeak_to_Element(input_string):\n",
    "    if input_string[2] == ':':\n",
    "        return input_string[:2]\n",
    "    elif input_string[1] == ':':\n",
    "        return input_string[:1]\n",
    "    else:\n",
    "        return 'check'"
   ]
  },
  {
   "cell_type": "code",
   "execution_count": 14,
   "metadata": {},
   "outputs": [
    {
     "name": "stderr",
     "output_type": "stream",
     "text": [
      "<ipython-input-14-ec08be1c0397>:1: SettingWithCopyWarning: \n",
      "A value is trying to be set on a copy of a slice from a DataFrame.\n",
      "Try using .loc[row_indexer,col_indexer] = value instead\n",
      "\n",
      "See the caveats in the documentation: https://pandas.pydata.org/pandas-docs/stable/user_guide/indexing.html#returning-a-view-versus-a-copy\n",
      "  lpos['comp'] = lpos['comp'].apply(spectrumPeak_to_Element)\n",
      "C:\\Users\\04965\\Anaconda3\\envs\\new_projects\\lib\\site-packages\\pandas\\core\\frame.py:4163: SettingWithCopyWarning: \n",
      "A value is trying to be set on a copy of a slice from a DataFrame\n",
      "\n",
      "See the caveats in the documentation: https://pandas.pydata.org/pandas-docs/stable/user_guide/indexing.html#returning-a-view-versus-a-copy\n",
      "  return super().drop(\n"
     ]
    }
   ],
   "source": [
    "lpos['comp'] = lpos['comp'].apply(spectrumPeak_to_Element)\n",
    "lpos.drop(columns=['Da','colour','nature'], inplace=True)"
   ]
  },
  {
   "cell_type": "code",
   "execution_count": 15,
   "metadata": {},
   "outputs": [
    {
     "data": {
      "text/html": [
       "<div>\n",
       "<style scoped>\n",
       "    .dataframe tbody tr th:only-of-type {\n",
       "        vertical-align: middle;\n",
       "    }\n",
       "\n",
       "    .dataframe tbody tr th {\n",
       "        vertical-align: top;\n",
       "    }\n",
       "\n",
       "    .dataframe thead th {\n",
       "        text-align: right;\n",
       "    }\n",
       "</style>\n",
       "<table border=\"1\" class=\"dataframe\">\n",
       "  <thead>\n",
       "    <tr style=\"text-align: right;\">\n",
       "      <th></th>\n",
       "      <th>x</th>\n",
       "      <th>y</th>\n",
       "      <th>z</th>\n",
       "      <th>comp</th>\n",
       "    </tr>\n",
       "  </thead>\n",
       "  <tbody>\n",
       "    <tr>\n",
       "      <th>0</th>\n",
       "      <td>0.004304</td>\n",
       "      <td>0.042454</td>\n",
       "      <td>0.327059</td>\n",
       "      <td>Cu</td>\n",
       "    </tr>\n",
       "    <tr>\n",
       "      <th>11</th>\n",
       "      <td>-0.130098</td>\n",
       "      <td>0.056832</td>\n",
       "      <td>3.866135</td>\n",
       "      <td>Cu</td>\n",
       "    </tr>\n",
       "    <tr>\n",
       "      <th>22</th>\n",
       "      <td>-0.013294</td>\n",
       "      <td>-0.140925</td>\n",
       "      <td>3.841610</td>\n",
       "      <td>Cu</td>\n",
       "    </tr>\n",
       "  </tbody>\n",
       "</table>\n",
       "</div>"
      ],
      "text/plain": [
       "           x         y         z comp\n",
       "0   0.004304  0.042454  0.327059   Cu\n",
       "11 -0.130098  0.056832  3.866135   Cu\n",
       "22 -0.013294 -0.140925  3.841610   Cu"
      ]
     },
     "execution_count": 15,
     "metadata": {},
     "output_type": "execute_result"
    }
   ],
   "source": [
    "lpos.head(3)"
   ]
  },
  {
   "cell_type": "code",
   "execution_count": 16,
   "metadata": {},
   "outputs": [
    {
     "data": {
      "text/plain": [
       "Cu    1636941\n",
       "B      137507\n",
       "Cr     102744\n",
       "C      102294\n",
       "Fe      89024\n",
       "Be      61632\n",
       "Ni      47063\n",
       "Ti      24831\n",
       "Mn      24142\n",
       "Zr      20192\n",
       "Zn      12834\n",
       "V       11800\n",
       "Co      10366\n",
       "Ga       9816\n",
       "Nb       7563\n",
       "Name: comp, dtype: int64"
      ]
     },
     "execution_count": 16,
     "metadata": {},
     "output_type": "execute_result"
    }
   ],
   "source": [
    "\"\"\"\n",
    "counts of each atom present in the material. \n",
    "\"\"\"\n",
    "lpos['comp'].value_counts()"
   ]
  },
  {
   "cell_type": "markdown",
   "metadata": {},
   "source": [
    "### Data preparation for clustering algorithm &  scale-calibration verification"
   ]
  },
  {
   "cell_type": "code",
   "execution_count": 17,
   "metadata": {},
   "outputs": [
    {
     "data": {
      "text/plain": [
       "array([[ 4.3038162e-03,  4.2453602e-02,  3.2705861e-01],\n",
       "       [-1.3009785e-01,  5.6832042e-02,  3.8661351e+00],\n",
       "       [-1.3293718e-02, -1.4092521e-01,  3.8416100e+00],\n",
       "       ...,\n",
       "       [ 4.4720151e-02, -1.1847691e-01,  9.6605995e+01],\n",
       "       [ 3.8473636e-02, -8.6444102e-02,  9.5643204e+01],\n",
       "       [ 8.4830227e+00,  3.9956600e+01,  0.0000000e+00]], dtype=float32)"
      ]
     },
     "execution_count": 17,
     "metadata": {},
     "output_type": "execute_result"
    }
   ],
   "source": [
    "lpos.iloc[:,:3].values"
   ]
  },
  {
   "cell_type": "code",
   "execution_count": 18,
   "metadata": {},
   "outputs": [],
   "source": [
    "points = lpos.iloc[:,:3].values"
   ]
  },
  {
   "cell_type": "code",
   "execution_count": 19,
   "metadata": {},
   "outputs": [
    {
     "name": "stdout",
     "output_type": "stream",
     "text": [
      "x-coordinate range: -0.20472830533981323 to 39.956600189208984\n",
      "y-coordinate range: -0.20554803311824799 to 39.956600189208984\n",
      "z-coordinate range: -28.229061126708984 to 101.36006927490234\n"
     ]
    }
   ],
   "source": [
    "# x min and x max\n",
    "print(\"x-coordinate range: {} to {}\".format(points[:,0].min(),points[:,0].max()))\n",
    "\n",
    "# y min and y max\n",
    "print(\"y-coordinate range: {} to {}\".format(points[:,1].min(),points[:,1].max()))\n",
    "\n",
    "# z min and z max\n",
    "print(\"z-coordinate range: {} to {}\".format(points[:,2].min(),points[:,2].max()))"
   ]
  },
  {
   "cell_type": "markdown",
   "metadata": {},
   "source": [
    "- We may note here that 'x' and 'y' range are 40 each (in nm)"
   ]
  },
  {
   "cell_type": "markdown",
   "metadata": {},
   "source": [
    "### Save processed data for clustering"
   ]
  },
  {
   "cell_type": "code",
   "execution_count": 20,
   "metadata": {},
   "outputs": [],
   "source": [
    "lpos.iloc[:,:3].to_pickle('processed_Cu-Cr-data_clustering_x_y_z.pkl')"
   ]
  },
  {
   "cell_type": "code",
   "execution_count": null,
   "metadata": {},
   "outputs": [],
   "source": []
  }
 ],
 "metadata": {
  "kernelspec": {
   "display_name": "Python 3",
   "language": "python",
   "name": "python3"
  },
  "language_info": {
   "codemirror_mode": {
    "name": "ipython",
    "version": 3
   },
   "file_extension": ".py",
   "mimetype": "text/x-python",
   "name": "python",
   "nbconvert_exporter": "python",
   "pygments_lexer": "ipython3",
   "version": "3.8.5"
  }
 },
 "nbformat": 4,
 "nbformat_minor": 4
}
